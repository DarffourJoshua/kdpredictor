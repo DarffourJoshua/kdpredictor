{
 "cells": [
  {
   "cell_type": "code",
   "execution_count": 1,
   "id": "cbdeebad-df62-4d9b-8fc2-88e6ae7127d3",
   "metadata": {},
   "outputs": [
    {
     "name": "stderr",
     "output_type": "stream",
     "text": [
      "USER_AGENT environment variable not set, consider setting it to identify your requests.\n"
     ]
    }
   ],
   "source": [
    "import getpass\n",
    "import os\n",
    "import bs4\n",
    "from langchain import hub\n",
    "from langchain_chroma import Chroma\n",
    "from langchain_community.document_loaders import WebBaseLoader\n",
    "from langchain_core.output_parsers import StrOutputParser\n",
    "from langchain_core.runnables import RunnablePassthrough\n",
    "from langchain_cohere import CohereEmbeddings\n",
    "from langchain_text_splitters import RecursiveCharacterTextSplitter\n",
    "from langchain_groq import ChatGroq"
   ]
  },
  {
   "cell_type": "code",
   "execution_count": 3,
   "id": "d50251e9-c36c-4d6c-a591-c3f0bd69330a",
   "metadata": {},
   "outputs": [
    {
     "name": "stdin",
     "output_type": "stream",
     "text": [
      " ········\n"
     ]
    }
   ],
   "source": [
    "os.environ[\"COHERE_API_KEY\"] = getpass.getpass()"
   ]
  },
  {
   "cell_type": "code",
   "execution_count": 4,
   "id": "8a9b7011-ccb3-4d98-9376-b6306f63dd5b",
   "metadata": {},
   "outputs": [
    {
     "name": "stdin",
     "output_type": "stream",
     "text": [
      " ········\n"
     ]
    }
   ],
   "source": [
    "os.environ[\"GROQ_API_KEY\"] = getpass.getpass()"
   ]
  },
  {
   "cell_type": "code",
   "execution_count": 13,
   "id": "fbbb2319-ac52-48a7-918c-d70706d393b7",
   "metadata": {},
   "outputs": [
    {
     "name": "stdin",
     "output_type": "stream",
     "text": [
      " ········\n"
     ]
    }
   ],
   "source": [
    "os.environ[\"LANGCHAIN_TRACING_V2\"] = \"true\"\n",
    "os.environ[\"LANGCHAIN_API_KEY\"] = getpass.getpass()"
   ]
  },
  {
   "cell_type": "code",
   "execution_count": 14,
   "id": "b8d4511c-5519-4cca-93ab-2c70a6dd100f",
   "metadata": {},
   "outputs": [],
   "source": [
    "llm = ChatGroq(model=\"llama3-8b-8192\")"
   ]
  },
  {
   "cell_type": "code",
   "execution_count": 15,
   "id": "a075a345-2593-41f1-940b-343f10915728",
   "metadata": {},
   "outputs": [
    {
     "data": {
      "text/plain": [
       "15827"
      ]
     },
     "execution_count": 15,
     "metadata": {},
     "output_type": "execute_result"
    }
   ],
   "source": [
    "bs4_strainer = bs4.SoupStrainer(attrs={'data-identity': ['headline', 'paragraph-element', 'unordered-list']})\n",
    "loader = WebBaseLoader(\n",
    "    web_paths=(\"https://my.clevelandclinic.org/health/diseases/15096-chronic-kidney-disease\",),\n",
    "    bs_kwargs={\"parse_only\": bs4_strainer},\n",
    ")\n",
    "docs = loader.load()\n",
    "\n",
    "len(docs[0].page_content)"
   ]
  },
  {
   "cell_type": "code",
   "execution_count": 16,
   "id": "447efa53-a2f9-4d95-bb2d-94cd047c641e",
   "metadata": {},
   "outputs": [
    {
     "data": {
      "text/plain": [
       "20"
      ]
     },
     "execution_count": 16,
     "metadata": {},
     "output_type": "execute_result"
    }
   ],
   "source": [
    "text_splitter = RecursiveCharacterTextSplitter(\n",
    "    chunk_size=1000, chunk_overlap=200, add_start_index=True\n",
    ")\n",
    "all_splits = text_splitter.split_documents(docs)\n",
    "\n",
    "len(all_splits)"
   ]
  },
  {
   "cell_type": "code",
   "execution_count": 17,
   "id": "02043d74-f547-4665-877b-b52d657aeaa5",
   "metadata": {},
   "outputs": [],
   "source": [
    "vectorstore = Chroma.from_documents(documents=all_splits, embedding=CohereEmbeddings(model='embed-english-v3.0'))"
   ]
  },
  {
   "cell_type": "code",
   "execution_count": 18,
   "id": "4ead0894-7b6a-4e0d-887f-a1398ed95bd6",
   "metadata": {},
   "outputs": [
    {
     "data": {
      "text/plain": [
       "6"
      ]
     },
     "execution_count": 18,
     "metadata": {},
     "output_type": "execute_result"
    }
   ],
   "source": [
    "retriever = vectorstore.as_retriever(search_type=\"similarity\", search_kwargs={\"k\": 6})\n",
    "\n",
    "retrieved_docs = retriever.invoke(\"What are the the common causes of chronic kidney disease?\")\n",
    "\n",
    "len(retrieved_docs)"
   ]
  },
  {
   "cell_type": "code",
   "execution_count": 52,
   "id": "2e8efdd8-c046-4a3d-970d-839f1438a3ca",
   "metadata": {},
   "outputs": [
    {
     "name": "stdout",
     "output_type": "stream",
     "text": [
      "or needing to pee more often. Since symptoms vary, it’s best to call your healthcare provider if you believe there’s something wrong.What are common causes of kidney disease?Kidney diseases happen when your kidneys are damaged and can’t filter your blood. With chronic kidney disease, the damage tends to happen over the course of several years.High blood pressure (hypertension) and diabetes are the two most common causes of chronic kidney disease. Other causes and conditions that affect kidney function and can cause chronic kidney disease include:Glomerulonephritis. This type of kidney disease involves damage to the glomeruli, which are the filtering units inside your kidneys.Polycystic kidney disease. This is a genetic disorder that causes many fluid-filled cysts to grow in your kidneys, reducing the ability of your kidneys to function.Membranous nephropathy. This is a disorder where your body’s immune system attacks the waste-filtering membranes in your kidney.Obstructions of the\n"
     ]
    }
   ],
   "source": [
    "print(retrieved_docs[0].page_content)"
   ]
  },
  {
   "cell_type": "code",
   "execution_count": 19,
   "id": "1b7a0859-c968-4899-ba38-04ba726071a4",
   "metadata": {},
   "outputs": [
    {
     "name": "stderr",
     "output_type": "stream",
     "text": [
      "/home/thepresiding/Desktop/Projects/kdpredictor/docReport/lib/python3.12/site-packages/langsmith/client.py:323: LangSmithMissingAPIKeyWarning: API key must be provided when using hosted LangSmith API\n",
      "  warnings.warn(\n"
     ]
    },
    {
     "data": {
      "text/plain": [
       "[HumanMessage(content=\"You are an assistant for question-answering tasks. Use the following pieces of retrieved context to answer the question. If you don't know the answer, just say that you don't know. Use three sentences maximum and keep the answer concise.\\nQuestion:  \\nContext: \\nYou are a nephrologist. Based on the following patient data and model predictions, write a concise medical report for the patient:\\n\\n- Diagnosis: Chronic Kidney Disease - Stage 3\\n- Glomerular Filtration Rate (GFR): 45 ml/min/1.73m²\\n- Creatinine Levels: 2.1 mg/dL\\n- Blood Pressure: 140/90 mmHg\\n- Age: 55\\n- Gender: Male\\n- Symptoms: fatigue, swelling in legs, high blood pressure\\n\\nThe report should include an assessment of the patient's condition, potential treatment options, and recommended follow-up actions.\\n \\nAnswer:\", additional_kwargs={}, response_metadata={})]"
      ]
     },
     "execution_count": 19,
     "metadata": {},
     "output_type": "execute_result"
    }
   ],
   "source": [
    "from langchain import hub\n",
    "\n",
    "# Pull the RAG prompt from the hub\n",
    "prompt = hub.pull(\"rlm/rag-prompt\")\n",
    "\n",
    "# Define the input information (model results and user inputs)\n",
    "model_results = {\n",
    "    \"classification\": \"Chronic Kidney Disease - Stage 3\",\n",
    "    \"GFR\": \"45 ml/min/1.73m²\",  # Example result\n",
    "    \"creatinine\": \"2.1 mg/dL\",\n",
    "    \"blood_pressure\": \"140/90 mmHg\",\n",
    "    \"age\": 55,\n",
    "    \"gender\": \"Male\",\n",
    "    \"symptoms\": [\"fatigue\", \"swelling in legs\", \"high blood pressure\"]\n",
    "}\n",
    "\n",
    "# Define the prompt message as a doctor creating a report based on the model's prediction and user inputs\n",
    "doctor_prompt_message = f\"\"\"\n",
    "You are a nephrologist. Based on the following patient data and model predictions, write a concise medical report for the patient:\n",
    "\n",
    "- Diagnosis: {model_results['classification']}\n",
    "- Glomerular Filtration Rate (GFR): {model_results['GFR']}\n",
    "- Creatinine Levels: {model_results['creatinine']}\n",
    "- Blood Pressure: {model_results['blood_pressure']}\n",
    "- Age: {model_results['age']}\n",
    "- Gender: {model_results['gender']}\n",
    "- Symptoms: {', '.join(model_results['symptoms'])}\n",
    "\n",
    "The report should include an assessment of the patient's condition, potential treatment options, and recommended follow-up actions.\n",
    "\"\"\"\n",
    "\n",
    "# Invoke the prompt with the doctor-style message\n",
    "example_messages = prompt.invoke(\n",
    "    {\"context\": doctor_prompt_message, \"question\": \"\"}\n",
    ").to_messages()\n",
    "\n",
    "# Display the generated messages\n",
    "example_messages"
   ]
  },
  {
   "cell_type": "code",
   "execution_count": 11,
   "id": "2490183b-5d67-4553-8f94-8e4355fdeff3",
   "metadata": {},
   "outputs": [
    {
     "name": "stdout",
     "output_type": "stream",
     "text": [
      "According to the provided context, common causes of chronic kidney disease (CKD) include high blood pressure (hypertension) and diabetes, as well as other conditions such as glomerulonephritis, polycystic kidney disease, membranous nephropathy, and obstructions of the urinary tract."
     ]
    }
   ],
   "source": [
    "def format_docs(docs):\n",
    "    return \"\\n\\n\".join(doc.page_content for doc in docs)\n",
    "\n",
    "\n",
    "rag_chain = (\n",
    "    {\"context\": retriever | format_docs, \"question\": RunnablePassthrough()}\n",
    "    | prompt\n",
    "    | llm\n",
    "    | StrOutputParser()\n",
    ")\n",
    "\n",
    "for chunk in rag_chain.stream(\"What are some causes of chronic kidney disease?\"):\n",
    "    print(chunk, end=\"\", flush=True)"
   ]
  },
  {
   "cell_type": "code",
   "execution_count": null,
   "id": "d61fbef4-8841-4f02-a7f9-178af2ceb412",
   "metadata": {},
   "outputs": [],
   "source": []
  }
 ],
 "metadata": {
  "kernelspec": {
   "display_name": "Python 3 (ipykernel)",
   "language": "python",
   "name": "python3"
  },
  "language_info": {
   "codemirror_mode": {
    "name": "ipython",
    "version": 3
   },
   "file_extension": ".py",
   "mimetype": "text/x-python",
   "name": "python",
   "nbconvert_exporter": "python",
   "pygments_lexer": "ipython3",
   "version": "3.12.2"
  },
  "widgets": {
   "application/vnd.jupyter.widget-state+json": {
    "state": {},
    "version_major": 2,
    "version_minor": 0
   }
  }
 },
 "nbformat": 4,
 "nbformat_minor": 5
}
